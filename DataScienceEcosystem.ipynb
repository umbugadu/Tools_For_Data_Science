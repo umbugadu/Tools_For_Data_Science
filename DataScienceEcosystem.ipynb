{
 "cells": [
  {
   "cell_type": "markdown",
   "id": "c9d31732-eb8c-4e5a-a235-c2d27f95dbd7",
   "metadata": {},
   "source": [
    "# Data Science Tools and Ecosystem"
   ]
  },
  {
   "cell_type": "markdown",
   "id": "753d48b1-55f7-476d-8f69-b56501055192",
   "metadata": {},
   "source": [
    "In this notebook, Data Science Tools and Ecosystem are summarized."
   ]
  },
  {
   "cell_type": "markdown",
   "id": "1854ef19-e4d2-4edc-ab9a-2de64c717bdc",
   "metadata": {},
   "source": [
    "**Objectives:**\n",
    "* List popular languages for Data Science\n",
    "* List commonly used libraries used by Data Scientists\n",
    "* A markdown cell with a table of Data Science tools\n",
    "* Few examples of evaluating arithmetic expressions in Python\n",
    "* \r\n"
   ]
  },
  {
   "cell_type": "markdown",
   "id": "18adacba-641b-4054-9db1-e494058bb75f",
   "metadata": {},
   "source": [
    "Some of the popular languages that Data Scientists use are:\n",
    "1. Python\n",
    "2. R\n",
    "3. C++\n",
    "4. SQL\n",
    "5. Java\n",
    "6. Julia"
   ]
  },
  {
   "cell_type": "markdown",
   "id": "2ce0530a-77d6-4264-810e-b8c4e1bfe3af",
   "metadata": {},
   "source": [
    "Some of the commonly used libraries used by Data Scientists include:\n",
    "1. Numpy\n",
    "2. Pandas\n",
    "3. Matplotlib\n",
    "4. Seaborn\n",
    "5. TensorFlow\n",
    "6. SciPy\n",
    "7. Sklearn"
   ]
  },
  {
   "cell_type": "markdown",
   "id": "a5332b12-9a03-439a-a67e-8c95dbe4531d",
   "metadata": {},
   "source": [
    "A markdown cell with a table of Data Science tools\n",
    "|s/n|Data Science Tools|\n",
    "|------|---------------|\n",
    "|1. |Jupyter Notebook|\n",
    "|2. |RStudio |\n",
    "|3. |TensorFlow |"
   ]
  },
  {
   "cell_type": "markdown",
   "id": "ab98d68b-d8a9-41e4-ad51-4d806dd60586",
   "metadata": {},
   "source": [
    "### Below are a few examples of evaluating arithmetic expressions in Python"
   ]
  },
  {
   "cell_type": "code",
   "execution_count": 21,
   "id": "23cdeccd-dd27-4cc8-b1f4-e6a24a839874",
   "metadata": {},
   "outputs": [
    {
     "data": {
      "text/plain": [
       "17"
      ]
     },
     "execution_count": 21,
     "metadata": {},
     "output_type": "execute_result"
    }
   ],
   "source": [
    "# This a simple arithmetic expression to mutiply then add integers\n",
    "(3*4)+5"
   ]
  },
  {
   "cell_type": "code",
   "execution_count": 12,
   "id": "a7d2ea99-e723-4602-95e2-5b7ff50cb61e",
   "metadata": {},
   "outputs": [
    {
     "data": {
      "text/plain": [
       "3.3333333333333335"
      ]
     },
     "execution_count": 12,
     "metadata": {},
     "output_type": "execute_result"
    }
   ],
   "source": [
    "# This will convert 200 minutes to hours by diving by 60\n",
    "200/60"
   ]
  },
  {
   "cell_type": "markdown",
   "id": "16545a15-e28c-4361-83b1-c74f60fd7677",
   "metadata": {},
   "source": [
    "## Author\n",
    "Anthony Irimiya Umbugadu"
   ]
  },
  {
   "cell_type": "code",
   "execution_count": null,
   "id": "516e3529-d122-412d-a2d9-efd5417b1384",
   "metadata": {},
   "outputs": [],
   "source": []
  }
 ],
 "metadata": {
  "kernelspec": {
   "display_name": "Python 3 (ipykernel)",
   "language": "python",
   "name": "python3"
  },
  "language_info": {
   "codemirror_mode": {
    "name": "ipython",
    "version": 3
   },
   "file_extension": ".py",
   "mimetype": "text/x-python",
   "name": "python",
   "nbconvert_exporter": "python",
   "pygments_lexer": "ipython3",
   "version": "3.12.4"
  }
 },
 "nbformat": 4,
 "nbformat_minor": 5
}
